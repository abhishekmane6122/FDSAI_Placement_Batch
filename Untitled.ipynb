{
 "cells": [
  {
   "cell_type": "markdown",
   "id": "e380b531-9c74-41fe-b06f-346c91239484",
   "metadata": {},
   "source": [
    "+ Project: **Invoice Processor & Chatbot**\n",
    "    - Azure Skills\n",
    "    - Azure AI services == Custom:OCR \n",
    "    - Langchain Rag and llm mdoel\n",
    "    - Flask\n",
    "    - Model Deployment using mlflow"
   ]
  },
  {
   "cell_type": "markdown",
   "id": "5920a688-b295-4a9c-8983-fd4f8aa1370a",
   "metadata": {},
   "source": [
    "+ 1.We will create a repository\n",
    "+ 2.We will upload the codes\n",
    "+ 3.This code base is called as Main\n",
    "+ 4.We will clone the entire code\n",
    "+ 5.We will create a out ouwn branch: dev\n",
    "+ 6.We will create the code in dev branch\n",
    "+ 7.We will merge our code into main\n",
    "+ 8.So that the changes reflected in main"
   ]
  },
  {
   "cell_type": "code",
   "execution_count": null,
   "id": "796da0f5-e3a8-41ff-97f4-f417b134f36c",
   "metadata": {},
   "outputs": [],
   "source": []
  }
 ],
 "metadata": {
  "kernelspec": {
   "display_name": "Python 3 (ipykernel)",
   "language": "python",
   "name": "python3"
  },
  "language_info": {
   "codemirror_mode": {
    "name": "ipython",
    "version": 3
   },
   "file_extension": ".py",
   "mimetype": "text/x-python",
   "name": "python",
   "nbconvert_exporter": "python",
   "pygments_lexer": "ipython3",
   "version": "3.12.4"
  }
 },
 "nbformat": 4,
 "nbformat_minor": 5
}
